{
 "cells": [
  {
   "cell_type": "markdown",
   "metadata": {},
   "source": [
    "# Question 1\n",
    "\n"
   ]
  },
  {
   "cell_type": "markdown",
   "metadata": {},
   "source": [
    "1. Factorial Formula\n",
    "Given a number  write a formula that returns  𝑛!\n",
    "\n",
    "In case you forgot the factorial formula\n",
    "\n",
    "n! = n(n-1)(n-2)...2*1\n"
   ]
  },
  {
   "cell_type": "code",
   "execution_count": 1,
   "metadata": {},
   "outputs": [
    {
     "name": "stdout",
     "output_type": "stream",
     "text": [
      "El factorial de 6 es: 720\n"
     ]
    }
   ],
   "source": [
    "def factorial(n):\n",
    "    \"\"\"\n",
    "    Esta función calcula el factorial de un número dado n.\n",
    "    :param n: Número entero no negativo\n",
    "    :return: Factorial de n\n",
    "    \"\"\"\n",
    "    if n < 0:\n",
    "        raise ValueError(\"El número debe ser un entero no negativo.\")\n",
    "    if n == 0 or n == 1:\n",
    "        return 1\n",
    "    result = 1\n",
    "    for i in range(2, n + 1):\n",
    "        result *= i\n",
    "    return result\n",
    "\n",
    "# Ejemplo de uso\n",
    "n = 6\n",
    "print(f\"El factorial de {n} es: {factorial(n)}\")\n"
   ]
  },
  {
   "cell_type": "markdown",
   "metadata": {},
   "source": [
    "Q1. Write a Python function to reverse a string."
   ]
  },
  {
   "cell_type": "code",
   "execution_count": 1,
   "metadata": {},
   "outputs": [
    {
     "name": "stdout",
     "output_type": "stream",
     "text": [
      "Original: Microsoft -> Reversed: tfosorciM\n",
      "Original: Coding Test -> Reversed: tseT gnidoC\n"
     ]
    }
   ],
   "source": [
    "def reverse_string(s):\n",
    "    \"\"\"\n",
    "    Reverses a given string.\n",
    "\n",
    "    Parameters:\n",
    "    s (str): The string to be reversed.\n",
    "\n",
    "    Returns:\n",
    "    str: The reversed string.\n",
    "    \"\"\"\n",
    "    return s[::-1]\n",
    "\n",
    "# Ejemplos para probar la función\n",
    "example1 = \"Microsoft\"\n",
    "example2 = \"Coding Test\"\n",
    "\n",
    "# Pruebas\n",
    "print(f\"Original: {example1} -> Reversed: {reverse_string(example1)}\")\n",
    "print(f\"Original: {example2} -> Reversed: {reverse_string(example2)}\")\n"
   ]
  },
  {
   "cell_type": "markdown",
   "metadata": {},
   "source": [
    "La función reverse_string(s) utiliza el slicing [::-1] para invertir la cadena.\n",
    "[::-1] funciona así:\n",
    "El primer valor es el inicio (por defecto es el principio de la cadena).\n",
    "El segundo valor es el final (por defecto es el final de la cadena).\n",
    "El tercer valor es el paso, donde -1 significa que se recorrerá la cadena en orden inverso."
   ]
  },
  {
   "cell_type": "markdown",
   "metadata": {},
   "source": [
    "Q2. Explain the difference between a list and a tuple in Python."
   ]
  },
  {
   "cell_type": "code",
   "execution_count": null,
   "metadata": {},
   "outputs": [],
   "source": [
    "#  List: Mutable. You can modify, add, or remove elements after the list is created  --- Created using square brackets [ ]\n",
    "\n",
    "my_list = [1, 2, 3]\n",
    "my_list[0] = 100  # Modifying an element\n",
    "my_list.append(4)  # Adding an element"
   ]
  },
  {
   "cell_type": "code",
   "execution_count": null,
   "metadata": {},
   "outputs": [],
   "source": [
    "# Tuple: Immutable. Once a tuple is created, its elements cannot be changed. ----- Created using parentheses ( ) or without any delimiters in some cases\n",
    "\n",
    "my_tuple = (1, 2, 3)"
   ]
  },
  {
   "cell_type": "markdown",
   "metadata": {},
   "source": []
  }
 ],
 "metadata": {
  "kernelspec": {
   "display_name": ".venv",
   "language": "python",
   "name": "python3"
  },
  "language_info": {
   "codemirror_mode": {
    "name": "ipython",
    "version": 3
   },
   "file_extension": ".py",
   "mimetype": "text/x-python",
   "name": "python",
   "nbconvert_exporter": "python",
   "pygments_lexer": "ipython3",
   "version": "3.11.6"
  }
 },
 "nbformat": 4,
 "nbformat_minor": 2
}
