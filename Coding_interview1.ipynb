{
 "cells": [
  {
   "cell_type": "markdown",
   "metadata": {},
   "source": [
    "# Question 1\n",
    "\n"
   ]
  },
  {
   "cell_type": "markdown",
   "metadata": {},
   "source": [
    "1. Factorial Formula\n",
    "Given a number  write a formula that returns  𝑛!\n",
    "\n",
    "In case you forgot the factorial formula\n",
    "\n",
    "n! = n(n-1)(n-2)...2*1\n"
   ]
  },
  {
   "cell_type": "code",
   "execution_count": 1,
   "metadata": {},
   "outputs": [
    {
     "name": "stdout",
     "output_type": "stream",
     "text": [
      "El factorial de 6 es: 720\n"
     ]
    }
   ],
   "source": [
    "def factorial(n):\n",
    "    \"\"\"\n",
    "    Esta función calcula el factorial de un número dado n.\n",
    "    :param n: Número entero no negativo\n",
    "    :return: Factorial de n\n",
    "    \"\"\"\n",
    "    if n < 0:\n",
    "        raise ValueError(\"El número debe ser un entero no negativo.\")\n",
    "    if n == 0 or n == 1:\n",
    "        return 1\n",
    "    result = 1\n",
    "    for i in range(2, n + 1):\n",
    "        result *= i\n",
    "    return result\n",
    "\n",
    "# Ejemplo de uso\n",
    "n = 6\n",
    "print(f\"El factorial de {n} es: {factorial(n)}\")\n"
   ]
  },
  {
   "cell_type": "markdown",
   "metadata": {},
   "source": [
    "Q1. Write a Python function to reverse a string."
   ]
  },
  {
   "cell_type": "code",
   "execution_count": 1,
   "metadata": {},
   "outputs": [
    {
     "name": "stdout",
     "output_type": "stream",
     "text": [
      "Original: Microsoft -> Reversed: tfosorciM\n",
      "Original: Coding Test -> Reversed: tseT gnidoC\n"
     ]
    }
   ],
   "source": [
    "def reverse_string(s):\n",
    "    \"\"\"\n",
    "    Reverses a given string.\n",
    "\n",
    "    Parameters:\n",
    "    s (str): The string to be reversed.\n",
    "\n",
    "    Returns:\n",
    "    str: The reversed string.\n",
    "    \"\"\"\n",
    "    return s[::-1]\n",
    "\n",
    "# Ejemplos para probar la función\n",
    "example1 = \"Microsoft\"\n",
    "example2 = \"Coding Test\"\n",
    "\n",
    "# Pruebas\n",
    "print(f\"Original: {example1} -> Reversed: {reverse_string(example1)}\")\n",
    "print(f\"Original: {example2} -> Reversed: {reverse_string(example2)}\")\n"
   ]
  },
  {
   "cell_type": "markdown",
   "metadata": {},
   "source": [
    "La función reverse_string(s) utiliza el slicing [::-1] para invertir la cadena.\n",
    "[::-1] funciona así:\n",
    "El primer valor es el inicio (por defecto es el principio de la cadena).\n",
    "El segundo valor es el final (por defecto es el final de la cadena).\n",
    "El tercer valor es el paso, donde -1 significa que se recorrerá la cadena en orden inverso."
   ]
  },
  {
   "cell_type": "markdown",
   "metadata": {},
   "source": [
    "Q2. Explain the difference between a list and a tuple in Python."
   ]
  },
  {
   "cell_type": "code",
   "execution_count": null,
   "metadata": {},
   "outputs": [],
   "source": [
    "#  List: Mutable. You can modify, add, or remove elements after the list is created  --- Created using square brackets [ ]\n",
    "\n",
    "my_list = [1, 2, 3]\n",
    "my_list[0] = 100  # Modifying an element\n",
    "my_list.append(4)  # Adding an element"
   ]
  },
  {
   "cell_type": "code",
   "execution_count": null,
   "metadata": {},
   "outputs": [],
   "source": [
    "# Tuple: Immutable. Once a tuple is created, its elements cannot be changed. ----- Created using parentheses ( ) or without any delimiters in some cases\n",
    "\n",
    "my_tuple = (1, 2, 3)"
   ]
  },
  {
   "cell_type": "markdown",
   "metadata": {},
   "source": [
    "Q3. Write a Python function to check if a given number is prime."
   ]
  },
  {
   "cell_type": "code",
   "execution_count": 5,
   "metadata": {},
   "outputs": [
    {
     "name": "stdout",
     "output_type": "stream",
     "text": [
      "Is 7 prime? True\n",
      "Is 17 prime? True\n",
      "Is 17 prime? False\n"
     ]
    }
   ],
   "source": [
    "def is_prime(n):\n",
    "    \"\"\"\n",
    "    Checks if a given number is prime.\n",
    "\n",
    "    Parameters:\n",
    "    n (int): The number to check.\n",
    "\n",
    "    Returns:\n",
    "    bool: True if the number is prime, False otherwise.\n",
    "    \"\"\"\n",
    "    if n <= 1:  # Numbers less than or equal to 1 are not prime\n",
    "        return False\n",
    "    for i in range(2, int(n**0.5) + 1):  # Check divisors up to the square root of n\n",
    "        if n % i == 0:\n",
    "            return False\n",
    "    return True\n",
    "\n",
    "# Ejemplos para probar la función\n",
    "example1 = 7  # Prime number\n",
    "example2 = 17  # Not a prime number\n",
    "example3 = 24\n",
    "\n",
    "# Pruebas\n",
    "print(f\"Is {example1} prime? {is_prime(example1)}\")\n",
    "print(f\"Is {example2} prime? {is_prime(example2)}\")\n",
    "print(f\"Is {example2} prime? {is_prime(example3)}\")\n"
   ]
  },
  {
   "cell_type": "markdown",
   "metadata": {},
   "source": [
    "Casos especiales:\n",
    "\n",
    "Los números menores o iguales a 1 no son primos, por lo que retornamos False.\n",
    "\n",
    "Optimización con raíz cuadrada:\n",
    "\n",
    "Un número no primo debe tener al menos un divisor menor o igual a su raíz cuadrada.\n",
    "Usamos int(n**0.5) + 1 para reducir el rango de divisores a verificar.\n",
    "Ciclo de verificación:\n",
    "\n",
    "Iteramos desde 2 hasta la raíz cuadrada de n.\n",
    "Si n % i == 0, el número tiene un divisor distinto de 1 y de sí mismo, por lo que no es primo.\n",
    "Resultados:\n",
    "\n",
    "Para example1 = 29: La función devuelve True porque 29 es primo.\n",
    "Para example2 = 30: La función devuelve False porque 30 tiene divisores como 2, 3, 5, etc."
   ]
  },
  {
   "cell_type": "markdown",
   "metadata": {},
   "source": [
    "Q4. Explain the difference between == and is in Python"
   ]
  },
  {
   "cell_type": "markdown",
   "metadata": {},
   "source": [
    "In Python, == and is are used for comparison but serve different purposes:\n",
    "\n",
    "1. == (Equality operator)\n",
    "Purpose: Checks if the values of two objects are equal.\n",
    "Compares: The contents or values of the objects.\n",
    "Examples:\n",
    "python\n",
    "Copiar código\n",
    "a = [1, 2, 3]\n",
    "b = [1, 2, 3]\n",
    "print(a == b)  # True, because the contents of both lists are the same\n",
    "Use case: Use == when you want to compare if two objects have the same data, even if they are different objects in memory.\n",
    "2. is (Identity operator)\n",
    "Purpose: Checks if two objects refer to the same memory location (i.e., they are the same object).\n",
    "Compares: The identity of the objects.\n",
    "Examples:\n",
    "python\n",
    "Copiar código\n",
    "a = [1, 2, 3]\n",
    "b = [1, 2, 3]\n",
    "print(a is b)  # False, because a and b are two different objects in memory\n",
    "c = a\n",
    "print(a is c)  # True, because c refers to the same object as a\n",
    "Use case: Use is when you need to check if two variables point to the exact same object in memory.\n",
    "Key Differences\n",
    "Feature\t==\tis\n",
    "What it compares\tValues/contents of objects\tIdentity (memory location)\n",
    "Result\tTrue if values are equal\tTrue if same object\n",
    "Common usage\tComparing data\tChecking object identity\n",
    "Example\ta == b\ta is b\n",
    "Special Case: Immutable Objects\n",
    "For small immutable objects (e.g., integers, strings), Python may reuse objects in memory for efficiency:\n",
    "\n",
    "python\n",
    "Copiar código\n",
    "x = 1000\n",
    "y = 1000\n",
    "print(x == y)  # True, values are the same\n",
    "print(x is y)  # False, different objects in memory (depends on Python's optimization)\n",
    "\n",
    "a = 5\n",
    "b = 5\n",
    "print(a == b)  # True\n",
    "print(a is b)  # True, Python reuses small integers (-5 to 256)\n",
    "Summary\n",
    "Use == for value equality.\n",
    "Use is for identity equality to check if two variables refer to the same object in memory."
   ]
  },
  {
   "cell_type": "markdown",
   "metadata": {},
   "source": [
    "Q5. Write a Python function to calculate the factorial of a number."
   ]
  },
  {
   "cell_type": "code",
   "execution_count": 6,
   "metadata": {},
   "outputs": [
    {
     "name": "stdout",
     "output_type": "stream",
     "text": [
      "Factorial de 5: 120\n",
      "Factorial de 7: 5040\n"
     ]
    }
   ],
   "source": [
    "def factorial(n):\n",
    "    \"\"\"\n",
    "    Esta función calcula el factorial de un número dado n.\n",
    "    :param n: Número entero no negativo\n",
    "    :return: Factorial de n\n",
    "    \"\"\"\n",
    "    if n < 0:\n",
    "        raise ValueError(\"El número debe ser un entero no negativo.\")\n",
    "    if n == 0 or n == 1:\n",
    "        return 1\n",
    "    result = 1\n",
    "    for i in range(2, n + 1):\n",
    "        result *= i\n",
    "    return result\n",
    "\n",
    "# Ejemplos para probar la función\n",
    "example1 = 5  # Factorial de 5\n",
    "example2 = 7  # Factorial de 7\n",
    "\n",
    "# Pruebas\n",
    "print(f\"Factorial de {example1}: {factorial(example1)}\")\n",
    "print(f\"Factorial de {example2}: {factorial(example2)}\")"
   ]
  },
  {
   "cell_type": "markdown",
   "metadata": {},
   "source": [
    "\n",
    "Usamos un bucle que multiplica los números de 2 hasta \n",
    "𝑛\n",
    "n, acumulando el resultado en result."
   ]
  },
  {
   "cell_type": "code",
   "execution_count": null,
   "metadata": {},
   "outputs": [],
   "source": []
  },
  {
   "cell_type": "markdown",
   "metadata": {},
   "source": []
  }
 ],
 "metadata": {
  "kernelspec": {
   "display_name": ".venv",
   "language": "python",
   "name": "python3"
  },
  "language_info": {
   "codemirror_mode": {
    "name": "ipython",
    "version": 3
   },
   "file_extension": ".py",
   "mimetype": "text/x-python",
   "name": "python",
   "nbconvert_exporter": "python",
   "pygments_lexer": "ipython3",
   "version": "3.11.6"
  }
 },
 "nbformat": 4,
 "nbformat_minor": 2
}
